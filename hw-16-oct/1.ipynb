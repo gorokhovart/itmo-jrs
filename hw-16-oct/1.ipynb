{
 "cells": [
  {
   "cell_type": "code",
   "execution_count": 176,
   "metadata": {},
   "outputs": [],
   "source": [
    "import tqdm\n",
    "import numpy as np\n",
    "import matplotlib.pyplot as plt"
   ]
  },
  {
   "cell_type": "code",
   "execution_count": 177,
   "metadata": {},
   "outputs": [],
   "source": [
    "m = 1 # unit: kg\n",
    "k = 1 # unit: N/m\n",
    "b = 1 # unit: N/(m^2)"
   ]
  },
  {
   "cell_type": "code",
   "execution_count": 178,
   "metadata": {},
   "outputs": [],
   "source": [
    "x = [0]  # unit: m\n",
    "vx = [1] # unit: m/s"
   ]
  },
  {
   "cell_type": "code",
   "execution_count": null,
   "metadata": {},
   "outputs": [],
   "source": [
    "t = [0]    # unit: s\n",
    "dt = 1e-4  # unit: s\n",
    "t_end = 60 # unit: s\n",
    "for t_now in tqdm.tqdm(np.arange(dt, t_end + dt, dt)):\n",
    "    x.append(x[-1] + vx[-1] * dt)\n",
    "    vx.append(vx[-1] - (k * x[-1] + b * vx[-1]) / m * dt)\n",
    "    t.append(t_now)"
   ]
  },
  {
   "cell_type": "code",
   "execution_count": null,
   "metadata": {},
   "outputs": [],
   "source": [
    "plt.plot(t, x)\n",
    "plt.title('x(t)')\n",
    "plt.xlabel('t, s')\n",
    "plt.ylabel('x, m')\n",
    "plt.grid()"
   ]
  },
  {
   "cell_type": "code",
   "execution_count": null,
   "metadata": {},
   "outputs": [],
   "source": [
    "plt.plot(t, vx)\n",
    "plt.title('vx(t)')\n",
    "plt.xlabel('t, s')\n",
    "plt.ylabel('vx, m/s')\n",
    "plt.grid()"
   ]
  },
  {
   "cell_type": "code",
   "execution_count": null,
   "metadata": {},
   "outputs": [],
   "source": [
    "plt.plot(x, vx, linestyle='', marker='.', markersize=0.5)\n",
    "plt.title('vx(x)')\n",
    "plt.xlabel('x, m')\n",
    "plt.ylabel('vx, m/s')\n",
    "plt.grid()"
   ]
  }
 ],
 "metadata": {
  "kernelspec": {
   "display_name": ".venv",
   "language": "python",
   "name": "python3"
  },
  "language_info": {
   "codemirror_mode": {
    "name": "ipython",
    "version": 3
   },
   "file_extension": ".py",
   "mimetype": "text/x-python",
   "name": "python",
   "nbconvert_exporter": "python",
   "pygments_lexer": "ipython3",
   "version": "3.11.10"
  }
 },
 "nbformat": 4,
 "nbformat_minor": 2
}
